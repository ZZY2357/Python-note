{
 "cells": [
  {
   "cell_type": "markdown",
   "metadata": {},
   "source": [
    "# 02 - 列表\n",
    "\n",
    "储存总数可变的多个数值"
   ]
  },
  {
   "cell_type": "markdown",
   "metadata": {},
   "source": [
    "## 列表的定义"
   ]
  },
  {
   "cell_type": "code",
   "execution_count": 1,
   "metadata": {},
   "outputs": [
    {
     "name": "stdout",
     "output_type": "stream",
     "text": [
      "[0, -1, 2.5, 'Hello', True]\n"
     ]
    }
   ],
   "source": [
    "myList = [0, -1, 2.5, 'Hello', True]\n",
    "print(myList)"
   ]
  },
  {
   "cell_type": "markdown",
   "metadata": {},
   "source": [
    "## 取值"
   ]
  },
  {
   "cell_type": "code",
   "execution_count": 6,
   "metadata": {},
   "outputs": [
    {
     "name": "stdout",
     "output_type": "stream",
     "text": [
      "0\n",
      "True\n",
      "[2.5, 'Hello', True]\n",
      "[True, 'Hello', 2.5, -1, 0]\n"
     ]
    }
   ],
   "source": [
    "myList = [0, -1, 2.5, 'Hello', True]\n",
    "print(myList[0])\n",
    "print(myList[-1]) # 倒数\n",
    "print(myList[2:5]) # 范围\n",
    "print(myList[::-1]) # 倒序"
   ]
  },
  {
   "cell_type": "markdown",
   "metadata": {},
   "source": [
    "## 增删改"
   ]
  },
  {
   "cell_type": "code",
   "execution_count": 8,
   "metadata": {},
   "outputs": [
    {
     "name": "stdout",
     "output_type": "stream",
     "text": [
      "[3, 5, 6]\n"
     ]
    }
   ],
   "source": [
    "l = [3, 5]\n",
    "l.append(6)\n",
    "print(l)"
   ]
  },
  {
   "cell_type": "code",
   "execution_count": 15,
   "metadata": {},
   "outputs": [
    {
     "name": "stdout",
     "output_type": "stream",
     "text": [
      "[3, 5]\n",
      "[3, 7]\n"
     ]
    }
   ],
   "source": [
    "l = [3, 5, 7]\n",
    "l.pop()\n",
    "print(l)\n",
    "\n",
    "l = [3, 5, 7]\n",
    "del l[1]\n",
    "print(l)"
   ]
  },
  {
   "cell_type": "code",
   "execution_count": 16,
   "metadata": {},
   "outputs": [
    {
     "name": "stdout",
     "output_type": "stream",
     "text": [
      "[3, ':)', 7]\n"
     ]
    }
   ],
   "source": [
    "l = [3, 5, 7]\n",
    "l[1] = ':)'\n",
    "print(l)"
   ]
  }
 ],
 "metadata": {
  "kernelspec": {
   "display_name": "Python 3",
   "language": "python",
   "name": "python3"
  },
  "language_info": {
   "codemirror_mode": {
    "name": "ipython",
    "version": 3
   },
   "file_extension": ".py",
   "mimetype": "text/x-python",
   "name": "python",
   "nbconvert_exporter": "python",
   "pygments_lexer": "ipython3",
   "version": "3.7.9"
  }
 },
 "nbformat": 4,
 "nbformat_minor": 4
}
