{
 "cells": [
  {
   "cell_type": "markdown",
   "metadata": {},
   "source": [
    "# 01 - 变量\n",
    "\n",
    "即储存数值的容器。"
   ]
  },
  {
   "cell_type": "markdown",
   "metadata": {},
   "source": [
    "## 变量的创建和赋值"
   ]
  },
  {
   "cell_type": "code",
   "execution_count": 1,
   "metadata": {},
   "outputs": [
    {
     "name": "stdout",
     "output_type": "stream",
     "text": [
      "50.5\n",
      "Tom\n",
      "Van\n",
      "True\n"
     ]
    }
   ],
   "source": [
    "prize = 50.5\n",
    "print(prize)\n",
    "name = 'Tom'\n",
    "print(name)\n",
    "name = 'Van'\n",
    "print(name)\n",
    "isAlive = True\n",
    "print(isAlive)"
   ]
  },
  {
   "cell_type": "markdown",
   "metadata": {},
   "source": [
    "## 运算"
   ]
  },
  {
   "cell_type": "code",
   "execution_count": 2,
   "metadata": {},
   "outputs": [
    {
     "name": "stdout",
     "output_type": "stream",
     "text": [
      "105\n",
      "82\n",
      "164\n",
      "54.666666666666664\n"
     ]
    }
   ],
   "source": [
    "money = 100\n",
    "\n",
    "money += 5\n",
    "print(money)\n",
    "\n",
    "money -= 23\n",
    "print(money)\n",
    "\n",
    "money *= 2\n",
    "print(money)\n",
    "\n",
    "money /= 3\n",
    "print(money)"
   ]
  },
  {
   "cell_type": "code",
   "execution_count": 4,
   "metadata": {},
   "outputs": [
    {
     "name": "stdout",
     "output_type": "stream",
     "text": [
      "39\n",
      "3.0\n",
      "7\n",
      "3\n",
      "2\n",
      "1\n"
     ]
    }
   ],
   "source": [
    "print(13 * 3)\n",
    "print(12 / 4)\n",
    "print(3 + 4)\n",
    "print(8 - 5)\n",
    "print(11 // 5) # 整除\n",
    "print(11 % 5) # 求余数"
   ]
  }
 ],
 "metadata": {
  "kernelspec": {
   "display_name": "Python 3",
   "language": "python",
   "name": "python3"
  },
  "language_info": {
   "codemirror_mode": {
    "name": "ipython",
    "version": 3
   },
   "file_extension": ".py",
   "mimetype": "text/x-python",
   "name": "python",
   "nbconvert_exporter": "python",
   "pygments_lexer": "ipython3",
   "version": "3.7.9"
  }
 },
 "nbformat": 4,
 "nbformat_minor": 4
}
