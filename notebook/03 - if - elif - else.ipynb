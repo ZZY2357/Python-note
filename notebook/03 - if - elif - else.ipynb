{
 "cells": [
  {
   "cell_type": "markdown",
   "metadata": {},
   "source": [
    "# 03 - if - elif - else"
   ]
  },
  {
   "cell_type": "code",
   "execution_count": 1,
   "metadata": {},
   "outputs": [
    {
     "name": "stdout",
     "output_type": "stream",
     "text": [
      "输入你的年龄: 5\n",
      "你还未成年\n"
     ]
    }
   ],
   "source": [
    "age = int(input('输入你的年龄: ')) # int() 转换为整数\n",
    "\n",
    "if age < 18:\n",
    "    print('你还未成年')\n",
    "else:\n",
    "    print('你已成年')"
   ]
  },
  {
   "cell_type": "code",
   "execution_count": 2,
   "metadata": {},
   "outputs": [
    {
     "name": "stdout",
     "output_type": "stream",
     "text": [
      "输入你的性别: 女\n",
      "你是女的\n"
     ]
    }
   ],
   "source": [
    "sex = input('输入你的性别: ')\n",
    "\n",
    "if sex == '男':\n",
    "    print('你是男的')\n",
    "elif sex == '女':\n",
    "    print('你是女的')\n",
    "else:\n",
    "    print('不要乱输入')"
   ]
  }
 ],
 "metadata": {
  "kernelspec": {
   "display_name": "Python 3",
   "language": "python",
   "name": "python3"
  },
  "language_info": {
   "codemirror_mode": {
    "name": "ipython",
    "version": 3
   },
   "file_extension": ".py",
   "mimetype": "text/x-python",
   "name": "python",
   "nbconvert_exporter": "python",
   "pygments_lexer": "ipython3",
   "version": "3.7.9"
  }
 },
 "nbformat": 4,
 "nbformat_minor": 4
}
